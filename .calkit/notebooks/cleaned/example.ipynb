{
 "cells": [
  {
   "cell_type": "code",
   "execution_count": null,
   "id": "0",
   "metadata": {},
   "outputs": [],
   "source": [
    "import numpy as np\n",
    "import matplotlib.pyplot as plt"
   ]
  },
  {
   "cell_type": "code",
   "execution_count": null,
   "id": "1",
   "metadata": {},
   "outputs": [],
   "source": [
    "# Load Calkit magics so we can cache a cell as a pipeline stage\n",
    "%load_ext calkit.magics"
   ]
  },
  {
   "cell_type": "markdown",
   "id": "2",
   "metadata": {},
   "source": [
    "# Set up model and run\n",
    "\n",
    "Here we use the `%%stage` magic to treat the cell as an isolated pipeline\n",
    "stage, so it will be cached and therefore not rerun if we restart the\n",
    "kernel."
   ]
  },
  {
   "cell_type": "code",
   "execution_count": null,
   "id": "3",
   "metadata": {},
   "outputs": [],
   "source": [
    "%%stage --name run-sim-nb \\\n",
    "    --environment nb \\\n",
    "    --out m \\\n",
    "    --out-path two-dim-nb \\\n",
    "    --dep-path model.py\n",
    "\n",
    "import model\n",
    "import numpy as np\n",
    "\n",
    "folder = \"two-dim-nb\"\n",
    "m = model.TwoDim()\n",
    "m.initmean(0, 2e-11)\n",
    "\n",
    "m.initnum(5e5, 128, 5000.0)\n",
    "m.initq(1e-4 * np.random.rand(128, 128, m.nz))\n",
    "m.snapshot(folder)\n",
    "\n",
    "m.nu = 2.5e46 * 4.0**20\n",
    "m.diffexp = 20\n",
    "m.hypodiff = 1e-16\n",
    "\n",
    "for i in range(100):\n",
    "    m.timestep()\n",
    "    m.screenlog()\n",
    "    if (\n",
    "        m.clock % 250000.0 < m.dt / 10\n",
    "        or m.clock % 250000.0 - 250000.0 > -m.dt / 10\n",
    "    ):\n",
    "        m.save(folder)\n",
    "        m.snapshot(folder)\n",
    "m"
   ]
  },
  {
   "cell_type": "markdown",
   "id": "4",
   "metadata": {},
   "source": [
    "# Plots"
   ]
  },
  {
   "cell_type": "code",
   "execution_count": null,
   "id": "5",
   "metadata": {},
   "outputs": [],
   "source": [
    "fig, ax = plt.subplots(1)\n",
    "qmax = np.max(np.abs(m.q[:, :, 0]))\n",
    "im = ax.pcolormesh(m.k[0, :, 0], m.l[:, 0, 0], np.real(m.q[:, :, 0]), cmap='RdBu_r', vmin=-qmax, vmax=qmax)\n",
    "plt.colorbar(im, ax=ax, label=r'Re($\\hat{q}$)')\n",
    "ax.set_xlabel(r'$k$')\n",
    "ax.set_ylabel(r'$l$')\n",
    "plt.show()"
   ]
  },
  {
   "cell_type": "code",
   "execution_count": null,
   "id": "6",
   "metadata": {},
   "outputs": [],
   "source": [
    "qp = m.irfft2(m.q, axes=(0, 1))\n",
    "qp += m.qx * (m.x - m.a / 2)\n",
    "qp += m.qy * (m.y - m.a / 2)\n",
    "qrmax = np.max(np.abs(qp[:, :, 0]))\n",
    "fig, ax = plt.subplots(1)\n",
    "im = ax.pcolormesh(m.x[0, :, 0]/1e3, m.y[:, 0, 0]/1e3, qp[:, :, 0], cmap='RdBu_r', vmin=-qrmax, vmax=qrmax)\n",
    "plt.colorbar(im, ax=ax, label=r'$q$ (s$^{-1}$)')\n",
    "ax.set_xlabel(r'$x$ (km)')\n",
    "ax.set_ylabel(r'$y$ (km)')\n",
    "plt.show()"
   ]
  },
  {
   "cell_type": "code",
   "execution_count": null,
   "id": "7",
   "metadata": {},
   "outputs": [],
   "source": [
    "ens = np.mean(np.abs(m.q[:, :, 0])**2, axis=0)\n",
    "fig, ax = plt.subplots(1)\n",
    "ax.plot(m.k[0, :, 0], ens, 'k-')\n",
    "ax.set_ylim(1e-7, 2e-5)\n",
    "ax.set_xscale('log')\n",
    "ax.set_yscale('log')\n",
    "ax.set_xlabel(r'$k$')\n",
    "ax.set_ylabel(r'$|q|^2$')\n",
    "plt.show()"
   ]
  },
  {
   "cell_type": "code",
   "execution_count": null,
   "id": "8",
   "metadata": {},
   "outputs": [],
   "source": [
    "p = np.empty((m.l.size, m.k.size, m.nz), dtype=complex)\n",
    "for i in range(m.l.size):\n",
    "    for j in range(m.k.size):\n",
    "        p[i, j, :] = np.linalg.solve(m.L[i, j, :, :], m.q[i, j, :])\n",
    "pp = m.irfft2(p, axes=(0, 1))\n",
    "ppmax = np.max(np.abs(pp[:, :, 0]))\n",
    "fig, ax = plt.subplots(1)\n",
    "im = ax.pcolormesh(m.x[0, :, 0]/1e3, m.y[:, 0, 0]/1e3, pp[:, :, 0], cmap='RdBu_r', vmin=-ppmax, vmax=ppmax)\n",
    "plt.colorbar(im, ax=ax, label=r'$\\psi$')\n",
    "ax.set_xlabel(r'$x$ (km)')\n",
    "ax.set_ylabel(r'$y$ (km)')\n",
    "plt.show()"
   ]
  },
  {
   "cell_type": "code",
   "execution_count": null,
   "id": "9",
   "metadata": {},
   "outputs": [],
   "source": [
    "u = 1j*m.l*p\n",
    "up = m.u[0] + m.irfft2(u, axes=(0, 1))\n",
    "umax = np.max(np.abs(up[:, :, 0]))\n",
    "fig, ax = plt.subplots(1)\n",
    "im = ax.pcolormesh(m.x[0, :, 0]/1e3, m.y[:, 0, 0]/1e3, up[:, :, 0], cmap='RdBu_r', vmin=-umax, vmax=umax)\n",
    "plt.colorbar(im, ax=ax, label=r'$u$')\n",
    "ax.set_xlabel(r'$x$ (km)')\n",
    "ax.set_ylabel(r'$y$ (km)')\n",
    "plt.show()"
   ]
  },
  {
   "cell_type": "code",
   "execution_count": null,
   "id": "10",
   "metadata": {},
   "outputs": [],
   "source": [
    "v = -1j*m.k*p\n",
    "vp = m.v[0] + m.irfft2(v, axes=(0, 1))\n",
    "vmax = np.max(np.abs(up[:, :, 0]))\n",
    "fig, ax = plt.subplots(1)\n",
    "im = ax.pcolormesh(m.x[0, :, 0]/1e3, m.y[:, 0, 0]/1e3, vp[:, :, 0], cmap='RdBu_r', vmin=-vmax, vmax=vmax)\n",
    "plt.colorbar(im, ax=ax, label=r'$v$')\n",
    "ax.set_xlabel(r'$x$ (km)')\n",
    "ax.set_ylabel(r'$y$ (km)')\n",
    "plt.show()"
   ]
  },
  {
   "cell_type": "code",
   "execution_count": null,
   "id": "11",
   "metadata": {},
   "outputs": [],
   "source": [
    "kep = 1/2*(up**2 + vp**2)\n",
    "print('Mean KE =', np.mean(kep[:, :, 0]))"
   ]
  },
  {
   "cell_type": "code",
   "execution_count": null,
   "id": "12",
   "metadata": {},
   "outputs": [],
   "source": [
    "ke = np.mean(1/2*(np.abs(u)**2 + np.abs(v)**2), axis=0)\n",
    "fig, ax = plt.subplots(1)\n",
    "ax.plot(m.k[0, :, 0], ke, 'k-')\n",
    "kvals = m.k[np.where(np.logical_and(m.k >= 1e-4, m.k <= 1e-3))]\n",
    "ax.plot(kvals, 1e-9*kvals**-3, 'k--', label=r'$k^{-3}$')\n",
    "ax.set_ylim(1e-1, 5e3)\n",
    "ax.legend()\n",
    "ax.set_xscale('log')\n",
    "ax.set_yscale('log')\n",
    "ax.set_xlabel(r'$k$')\n",
    "ax.set_ylabel(r'$\\frac{1}{2}(|u|^2 + |v|^2)$')\n",
    "plt.show()"
   ]
  },
  {
   "cell_type": "markdown",
   "id": "13",
   "metadata": {},
   "source": [
    "# Estimate spectral slope"
   ]
  },
  {
   "cell_type": "code",
   "execution_count": null,
   "id": "14",
   "metadata": {},
   "outputs": [],
   "source": [
    "def f(k, c, n):\n",
    "    return c*k**n\n",
    "\n",
    "from scipy.optimize import curve_fit\n",
    "krange = np.where(np.logical_and(m.k[0, :, 0] >= 2e-4, m.k[0, :, 0] <= 1e-3))\n",
    "popt, pcov = curve_fit(f, m.k[0, krange, 0][0], ke[krange][:, 0], p0=[1e-9, -3])\n",
    "print('c =', popt[0])\n",
    "print('n =', popt[1])\n",
    "\n",
    "fig, ax = plt.subplots(1)\n",
    "ax.plot(m.k[0, :, 0], ke, 'k-')\n",
    "ax.plot(m.k[0, krange, 0][0], f(m.k[0, krange, 0][0], *popt), 'k--', label=r'$c k^{-n}$ with $n = $ ' + f'{popt[1]:.2f}')\n",
    "ax.set_ylim(1e-1, 5e3)\n",
    "ax.legend()\n",
    "ax.set_xscale('log')\n",
    "ax.set_yscale('log')\n",
    "ax.set_xlabel(r'$k$')\n",
    "ax.set_ylabel(r'$\\frac{1}{2}(|u|^2 + |v|^2)$')\n",
    "plt.show()"
   ]
  },
  {
   "cell_type": "code",
   "execution_count": null,
   "id": "15",
   "metadata": {},
   "outputs": [],
   "source": []
  }
 ],
 "metadata": {
  "kernelspec": {
   "display_name": "Python 3 (ipykernel)",
   "language": "python",
   "name": "python3"
  },
  "language_info": {
   "codemirror_mode": {
    "name": "ipython",
    "version": 3
   },
   "file_extension": ".py",
   "mimetype": "text/x-python",
   "name": "python",
   "nbconvert_exporter": "python",
   "pygments_lexer": "ipython3",
   "version": "3.13.5"
  }
 },
 "nbformat": 4,
 "nbformat_minor": 5
}
